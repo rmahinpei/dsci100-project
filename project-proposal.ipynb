{
 "cells": [
  {
   "cell_type": "markdown",
   "metadata": {},
   "source": [
    "# Project Proposal"
   ]
  },
  {
   "cell_type": "code",
   "execution_count": 1,
   "metadata": {},
   "outputs": [
    {
     "name": "stderr",
     "output_type": "stream",
     "text": [
      "── \u001b[1mAttaching packages\u001b[22m ─────────────────────────────────────── tidyverse 1.3.0 ──\n",
      "\n",
      "\u001b[32m✔\u001b[39m \u001b[34mggplot2\u001b[39m 3.3.2     \u001b[32m✔\u001b[39m \u001b[34mpurrr  \u001b[39m 0.3.4\n",
      "\u001b[32m✔\u001b[39m \u001b[34mtibble \u001b[39m 3.0.3     \u001b[32m✔\u001b[39m \u001b[34mdplyr  \u001b[39m 1.0.2\n",
      "\u001b[32m✔\u001b[39m \u001b[34mtidyr  \u001b[39m 1.1.2     \u001b[32m✔\u001b[39m \u001b[34mstringr\u001b[39m 1.4.0\n",
      "\u001b[32m✔\u001b[39m \u001b[34mreadr  \u001b[39m 1.3.1     \u001b[32m✔\u001b[39m \u001b[34mforcats\u001b[39m 0.5.0\n",
      "\n",
      "Warning message:\n",
      "“package ‘ggplot2’ was built under R version 4.0.1”\n",
      "Warning message:\n",
      "“package ‘tibble’ was built under R version 4.0.2”\n",
      "Warning message:\n",
      "“package ‘tidyr’ was built under R version 4.0.2”\n",
      "Warning message:\n",
      "“package ‘dplyr’ was built under R version 4.0.2”\n",
      "── \u001b[1mConflicts\u001b[22m ────────────────────────────────────────── tidyverse_conflicts() ──\n",
      "\u001b[31m✖\u001b[39m \u001b[34mdplyr\u001b[39m::\u001b[32mfilter()\u001b[39m masks \u001b[34mstats\u001b[39m::filter()\n",
      "\u001b[31m✖\u001b[39m \u001b[34mdplyr\u001b[39m::\u001b[32mlag()\u001b[39m    masks \u001b[34mstats\u001b[39m::lag()\n",
      "\n"
     ]
    }
   ],
   "source": [
    "library(tidyverse)"
   ]
  },
  {
   "cell_type": "markdown",
   "metadata": {},
   "source": [
    "Possible questions for Starbucks data:\n",
    "* Classification: Can we use selected nutritional values of a Starbucks drink to predict its beverage category or beverage type?\n",
    "* Regression: Can we use the total fat in a Starbucks drink to predict its calories?\n",
    "* Regression: Can we use the total carbs in a Starbucks food item to predict its calories?\n",
    "\n",
    "Possible questions for Salaries data:\n",
    "* Classification: Can we use starting median salary and mid-career median salary to predict the region of education?\n",
    "* Regression: Can we use starting median salary to predict mid-career median salary?"
   ]
  },
  {
   "cell_type": "code",
   "execution_count": 11,
   "metadata": {},
   "outputs": [
    {
     "name": "stderr",
     "output_type": "stream",
     "text": [
      "Parsed with column specification:\n",
      "cols(\n",
      "  Beverage_category = \u001b[31mcol_character()\u001b[39m,\n",
      "  Beverage = \u001b[31mcol_character()\u001b[39m,\n",
      "  Beverage_prep = \u001b[31mcol_character()\u001b[39m,\n",
      "  Calories = \u001b[32mcol_double()\u001b[39m,\n",
      "  `Total Fat (g)` = \u001b[31mcol_character()\u001b[39m,\n",
      "  `Trans Fat (g)` = \u001b[32mcol_double()\u001b[39m,\n",
      "  `Saturated Fat (g)` = \u001b[32mcol_double()\u001b[39m,\n",
      "  `Sodium (mg)` = \u001b[32mcol_double()\u001b[39m,\n",
      "  `Total Carbohydrates (g)` = \u001b[32mcol_double()\u001b[39m,\n",
      "  `Cholesterol (mg)` = \u001b[32mcol_double()\u001b[39m,\n",
      "  `Dietary Fibre (g)` = \u001b[32mcol_double()\u001b[39m,\n",
      "  `Sugars (g)` = \u001b[32mcol_double()\u001b[39m,\n",
      "  `Protein (g)` = \u001b[32mcol_double()\u001b[39m,\n",
      "  `Vitamin A (% DV)` = \u001b[31mcol_character()\u001b[39m,\n",
      "  `Vitamin C (% DV)` = \u001b[31mcol_character()\u001b[39m,\n",
      "  `Calcium (% DV)` = \u001b[31mcol_character()\u001b[39m,\n",
      "  `Iron (% DV)` = \u001b[31mcol_character()\u001b[39m,\n",
      "  `Caffeine (mg)` = \u001b[31mcol_character()\u001b[39m\n",
      ")\n",
      "\n",
      "Warning message:\n",
      "“Missing column names filled in: 'X1' [1]”\n",
      "Parsed with column specification:\n",
      "cols(\n",
      "  X1 = \u001b[31mcol_character()\u001b[39m,\n",
      "  Calories = \u001b[32mcol_double()\u001b[39m,\n",
      "  `Fat (g)` = \u001b[32mcol_double()\u001b[39m,\n",
      "  `Carb. (g)` = \u001b[32mcol_double()\u001b[39m,\n",
      "  `Fiber (g)` = \u001b[32mcol_double()\u001b[39m,\n",
      "  `Protein (g)` = \u001b[32mcol_double()\u001b[39m\n",
      ")\n",
      "\n"
     ]
    },
    {
     "data": {
      "text/html": [
       "<table>\n",
       "<caption>A tibble: 6 × 18</caption>\n",
       "<thead>\n",
       "\t<tr><th scope=col>Beverage_category</th><th scope=col>Beverage</th><th scope=col>Beverage_prep</th><th scope=col>Calories</th><th scope=col>Total Fat (g)</th><th scope=col>Trans Fat (g)</th><th scope=col>Saturated Fat (g)</th><th scope=col>Sodium (mg)</th><th scope=col>Total Carbohydrates (g)</th><th scope=col>Cholesterol (mg)</th><th scope=col>Dietary Fibre (g)</th><th scope=col>Sugars (g)</th><th scope=col>Protein (g)</th><th scope=col>Vitamin A (% DV)</th><th scope=col>Vitamin C (% DV)</th><th scope=col>Calcium (% DV)</th><th scope=col>Iron (% DV)</th><th scope=col>Caffeine (mg)</th></tr>\n",
       "\t<tr><th scope=col>&lt;chr&gt;</th><th scope=col>&lt;chr&gt;</th><th scope=col>&lt;chr&gt;</th><th scope=col>&lt;dbl&gt;</th><th scope=col>&lt;chr&gt;</th><th scope=col>&lt;dbl&gt;</th><th scope=col>&lt;dbl&gt;</th><th scope=col>&lt;dbl&gt;</th><th scope=col>&lt;dbl&gt;</th><th scope=col>&lt;dbl&gt;</th><th scope=col>&lt;dbl&gt;</th><th scope=col>&lt;dbl&gt;</th><th scope=col>&lt;dbl&gt;</th><th scope=col>&lt;chr&gt;</th><th scope=col>&lt;chr&gt;</th><th scope=col>&lt;chr&gt;</th><th scope=col>&lt;chr&gt;</th><th scope=col>&lt;chr&gt;</th></tr>\n",
       "</thead>\n",
       "<tbody>\n",
       "\t<tr><td>Coffee                 </td><td>Brewed Coffee</td><td>Short            </td><td>  3</td><td>0.1</td><td>0.0</td><td>0.0</td><td> 0</td><td> 5</td><td> 0</td><td>0</td><td>0</td><td>0.3</td><td>0% </td><td>0%</td><td>0% </td><td>0%</td><td>175</td></tr>\n",
       "\t<tr><td>Coffee                 </td><td>Brewed Coffee</td><td>Tall             </td><td>  4</td><td>0.1</td><td>0.0</td><td>0.0</td><td> 0</td><td>10</td><td> 0</td><td>0</td><td>0</td><td>0.5</td><td>0% </td><td>0%</td><td>0% </td><td>0%</td><td>260</td></tr>\n",
       "\t<tr><td>Coffee                 </td><td>Brewed Coffee</td><td>Grande           </td><td>  5</td><td>0.1</td><td>0.0</td><td>0.0</td><td> 0</td><td>10</td><td> 0</td><td>0</td><td>0</td><td>1.0</td><td>0% </td><td>0%</td><td>0% </td><td>0%</td><td>330</td></tr>\n",
       "\t<tr><td>Coffee                 </td><td>Brewed Coffee</td><td>Venti            </td><td>  5</td><td>0.1</td><td>0.0</td><td>0.0</td><td> 0</td><td>10</td><td> 0</td><td>0</td><td>0</td><td>1.0</td><td>0% </td><td>0%</td><td>2% </td><td>0%</td><td>410</td></tr>\n",
       "\t<tr><td>Classic Espresso Drinks</td><td>Caffè Latte  </td><td>Short Nonfat Milk</td><td> 70</td><td>0.1</td><td>0.1</td><td>0.0</td><td> 5</td><td>75</td><td>10</td><td>0</td><td>9</td><td>6.0</td><td>10%</td><td>0%</td><td>20%</td><td>0%</td><td>75 </td></tr>\n",
       "\t<tr><td>Classic Espresso Drinks</td><td>Caffè Latte  </td><td>2% Milk          </td><td>100</td><td>3.5</td><td>2.0</td><td>0.1</td><td>15</td><td>85</td><td>10</td><td>0</td><td>9</td><td>6.0</td><td>10%</td><td>0%</td><td>20%</td><td>0%</td><td>75 </td></tr>\n",
       "</tbody>\n",
       "</table>\n"
      ],
      "text/latex": [
       "A tibble: 6 × 18\n",
       "\\begin{tabular}{llllllllllllllllll}\n",
       " Beverage\\_category & Beverage & Beverage\\_prep & Calories & Total Fat (g) & Trans Fat (g) & Saturated Fat (g) & Sodium (mg) & Total Carbohydrates (g) & Cholesterol (mg) & Dietary Fibre (g) & Sugars (g) & Protein (g) & Vitamin A (\\% DV) & Vitamin C (\\% DV) & Calcium (\\% DV) & Iron (\\% DV) & Caffeine (mg)\\\\\n",
       " <chr> & <chr> & <chr> & <dbl> & <chr> & <dbl> & <dbl> & <dbl> & <dbl> & <dbl> & <dbl> & <dbl> & <dbl> & <chr> & <chr> & <chr> & <chr> & <chr>\\\\\n",
       "\\hline\n",
       "\t Coffee                  & Brewed Coffee & Short             &   3 & 0.1 & 0.0 & 0.0 &  0 &  5 &  0 & 0 & 0 & 0.3 & 0\\%  & 0\\% & 0\\%  & 0\\% & 175\\\\\n",
       "\t Coffee                  & Brewed Coffee & Tall              &   4 & 0.1 & 0.0 & 0.0 &  0 & 10 &  0 & 0 & 0 & 0.5 & 0\\%  & 0\\% & 0\\%  & 0\\% & 260\\\\\n",
       "\t Coffee                  & Brewed Coffee & Grande            &   5 & 0.1 & 0.0 & 0.0 &  0 & 10 &  0 & 0 & 0 & 1.0 & 0\\%  & 0\\% & 0\\%  & 0\\% & 330\\\\\n",
       "\t Coffee                  & Brewed Coffee & Venti             &   5 & 0.1 & 0.0 & 0.0 &  0 & 10 &  0 & 0 & 0 & 1.0 & 0\\%  & 0\\% & 2\\%  & 0\\% & 410\\\\\n",
       "\t Classic Espresso Drinks & Caffè Latte   & Short Nonfat Milk &  70 & 0.1 & 0.1 & 0.0 &  5 & 75 & 10 & 0 & 9 & 6.0 & 10\\% & 0\\% & 20\\% & 0\\% & 75 \\\\\n",
       "\t Classic Espresso Drinks & Caffè Latte   & 2\\% Milk           & 100 & 3.5 & 2.0 & 0.1 & 15 & 85 & 10 & 0 & 9 & 6.0 & 10\\% & 0\\% & 20\\% & 0\\% & 75 \\\\\n",
       "\\end{tabular}\n"
      ],
      "text/markdown": [
       "\n",
       "A tibble: 6 × 18\n",
       "\n",
       "| Beverage_category &lt;chr&gt; | Beverage &lt;chr&gt; | Beverage_prep &lt;chr&gt; | Calories &lt;dbl&gt; | Total Fat (g) &lt;chr&gt; | Trans Fat (g) &lt;dbl&gt; | Saturated Fat (g) &lt;dbl&gt; | Sodium (mg) &lt;dbl&gt; | Total Carbohydrates (g) &lt;dbl&gt; | Cholesterol (mg) &lt;dbl&gt; | Dietary Fibre (g) &lt;dbl&gt; | Sugars (g) &lt;dbl&gt; | Protein (g) &lt;dbl&gt; | Vitamin A (% DV) &lt;chr&gt; | Vitamin C (% DV) &lt;chr&gt; | Calcium (% DV) &lt;chr&gt; | Iron (% DV) &lt;chr&gt; | Caffeine (mg) &lt;chr&gt; |\n",
       "|---|---|---|---|---|---|---|---|---|---|---|---|---|---|---|---|---|---|\n",
       "| Coffee                  | Brewed Coffee | Short             |   3 | 0.1 | 0.0 | 0.0 |  0 |  5 |  0 | 0 | 0 | 0.3 | 0%  | 0% | 0%  | 0% | 175 |\n",
       "| Coffee                  | Brewed Coffee | Tall              |   4 | 0.1 | 0.0 | 0.0 |  0 | 10 |  0 | 0 | 0 | 0.5 | 0%  | 0% | 0%  | 0% | 260 |\n",
       "| Coffee                  | Brewed Coffee | Grande            |   5 | 0.1 | 0.0 | 0.0 |  0 | 10 |  0 | 0 | 0 | 1.0 | 0%  | 0% | 0%  | 0% | 330 |\n",
       "| Coffee                  | Brewed Coffee | Venti             |   5 | 0.1 | 0.0 | 0.0 |  0 | 10 |  0 | 0 | 0 | 1.0 | 0%  | 0% | 2%  | 0% | 410 |\n",
       "| Classic Espresso Drinks | Caffè Latte   | Short Nonfat Milk |  70 | 0.1 | 0.1 | 0.0 |  5 | 75 | 10 | 0 | 9 | 6.0 | 10% | 0% | 20% | 0% | 75  |\n",
       "| Classic Espresso Drinks | Caffè Latte   | 2% Milk           | 100 | 3.5 | 2.0 | 0.1 | 15 | 85 | 10 | 0 | 9 | 6.0 | 10% | 0% | 20% | 0% | 75  |\n",
       "\n"
      ],
      "text/plain": [
       "  Beverage_category       Beverage      Beverage_prep     Calories\n",
       "1 Coffee                  Brewed Coffee Short               3     \n",
       "2 Coffee                  Brewed Coffee Tall                4     \n",
       "3 Coffee                  Brewed Coffee Grande              5     \n",
       "4 Coffee                  Brewed Coffee Venti               5     \n",
       "5 Classic Espresso Drinks Caffè Latte   Short Nonfat Milk  70     \n",
       "6 Classic Espresso Drinks Caffè Latte   2% Milk           100     \n",
       "  Total Fat (g) Trans Fat (g) Saturated Fat (g) Sodium (mg)\n",
       "1 0.1           0.0           0.0                0         \n",
       "2 0.1           0.0           0.0                0         \n",
       "3 0.1           0.0           0.0                0         \n",
       "4 0.1           0.0           0.0                0         \n",
       "5 0.1           0.1           0.0                5         \n",
       "6 3.5           2.0           0.1               15         \n",
       "  Total Carbohydrates (g) Cholesterol (mg) Dietary Fibre (g) Sugars (g)\n",
       "1  5                       0               0                 0         \n",
       "2 10                       0               0                 0         \n",
       "3 10                       0               0                 0         \n",
       "4 10                       0               0                 0         \n",
       "5 75                      10               0                 9         \n",
       "6 85                      10               0                 9         \n",
       "  Protein (g) Vitamin A (% DV) Vitamin C (% DV) Calcium (% DV) Iron (% DV)\n",
       "1 0.3         0%               0%               0%             0%         \n",
       "2 0.5         0%               0%               0%             0%         \n",
       "3 1.0         0%               0%               0%             0%         \n",
       "4 1.0         0%               0%               2%             0%         \n",
       "5 6.0         10%              0%               20%            0%         \n",
       "6 6.0         10%              0%               20%            0%         \n",
       "  Caffeine (mg)\n",
       "1 175          \n",
       "2 260          \n",
       "3 330          \n",
       "4 410          \n",
       "5 75           \n",
       "6 75           "
      ]
     },
     "metadata": {},
     "output_type": "display_data"
    }
   ],
   "source": [
    "drink_data <- read_csv(\"data/starbucks/drinkMenu.csv\")\n",
    "food_data <- read_csv(\"data/starbucks/foodMenu.csv\")\n",
    "head(drink_data)"
   ]
  },
  {
   "cell_type": "code",
   "execution_count": 10,
   "metadata": {},
   "outputs": [
    {
     "name": "stderr",
     "output_type": "stream",
     "text": [
      "Parsed with column specification:\n",
      "cols(\n",
      "  `School Name` = \u001b[31mcol_character()\u001b[39m,\n",
      "  Region = \u001b[31mcol_character()\u001b[39m,\n",
      "  `Starting Median Salary` = \u001b[31mcol_character()\u001b[39m,\n",
      "  `Mid-Career Median Salary` = \u001b[31mcol_character()\u001b[39m,\n",
      "  `Mid-Career 10th Percentile Salary` = \u001b[31mcol_character()\u001b[39m,\n",
      "  `Mid-Career 25th Percentile Salary` = \u001b[31mcol_character()\u001b[39m,\n",
      "  `Mid-Career 75th Percentile Salary` = \u001b[31mcol_character()\u001b[39m,\n",
      "  `Mid-Career 90th Percentile Salary` = \u001b[31mcol_character()\u001b[39m\n",
      ")\n",
      "\n",
      "Parsed with column specification:\n",
      "cols(\n",
      "  `School Name` = \u001b[31mcol_character()\u001b[39m,\n",
      "  `School Type` = \u001b[31mcol_character()\u001b[39m,\n",
      "  `Starting Median Salary` = \u001b[31mcol_character()\u001b[39m,\n",
      "  `Mid-Career Median Salary` = \u001b[31mcol_character()\u001b[39m,\n",
      "  `Mid-Career 10th Percentile Salary` = \u001b[31mcol_character()\u001b[39m,\n",
      "  `Mid-Career 25th Percentile Salary` = \u001b[31mcol_character()\u001b[39m,\n",
      "  `Mid-Career 75th Percentile Salary` = \u001b[31mcol_character()\u001b[39m,\n",
      "  `Mid-Career 90th Percentile Salary` = \u001b[31mcol_character()\u001b[39m\n",
      ")\n",
      "\n",
      "Parsed with column specification:\n",
      "cols(\n",
      "  `Undergraduate Major` = \u001b[31mcol_character()\u001b[39m,\n",
      "  `Starting Median Salary` = \u001b[31mcol_character()\u001b[39m,\n",
      "  `Mid-Career Median Salary` = \u001b[31mcol_character()\u001b[39m,\n",
      "  `Percent change from Starting to Mid-Career Salary` = \u001b[32mcol_double()\u001b[39m,\n",
      "  `Mid-Career 10th Percentile Salary` = \u001b[31mcol_character()\u001b[39m,\n",
      "  `Mid-Career 25th Percentile Salary` = \u001b[31mcol_character()\u001b[39m,\n",
      "  `Mid-Career 75th Percentile Salary` = \u001b[31mcol_character()\u001b[39m,\n",
      "  `Mid-Career 90th Percentile Salary` = \u001b[31mcol_character()\u001b[39m\n",
      ")\n",
      "\n"
     ]
    },
    {
     "data": {
      "text/html": [
       "<table>\n",
       "<caption>A tibble: 6 × 8</caption>\n",
       "<thead>\n",
       "\t<tr><th scope=col>School Name</th><th scope=col>Region</th><th scope=col>Starting Median Salary</th><th scope=col>Mid-Career Median Salary</th><th scope=col>Mid-Career 10th Percentile Salary</th><th scope=col>Mid-Career 25th Percentile Salary</th><th scope=col>Mid-Career 75th Percentile Salary</th><th scope=col>Mid-Career 90th Percentile Salary</th></tr>\n",
       "\t<tr><th scope=col>&lt;chr&gt;</th><th scope=col>&lt;chr&gt;</th><th scope=col>&lt;chr&gt;</th><th scope=col>&lt;chr&gt;</th><th scope=col>&lt;chr&gt;</th><th scope=col>&lt;chr&gt;</th><th scope=col>&lt;chr&gt;</th><th scope=col>&lt;chr&gt;</th></tr>\n",
       "</thead>\n",
       "<tbody>\n",
       "\t<tr><td>Stanford University                     </td><td>California</td><td>$70,400.00</td><td>$129,000.00</td><td>$68,400.00</td><td>$93,100.00 </td><td>$184,000.00</td><td>$257,000.00</td></tr>\n",
       "\t<tr><td>California Institute of Technology (CIT)</td><td>California</td><td>$75,500.00</td><td>$123,000.00</td><td>N/A       </td><td>$104,000.00</td><td>$161,000.00</td><td>N/A        </td></tr>\n",
       "\t<tr><td>Harvey Mudd College                     </td><td>California</td><td>$71,800.00</td><td>$122,000.00</td><td>N/A       </td><td>$96,000.00 </td><td>$180,000.00</td><td>N/A        </td></tr>\n",
       "\t<tr><td>University of California, Berkeley      </td><td>California</td><td>$59,900.00</td><td>$112,000.00</td><td>$59,500.00</td><td>$81,000.00 </td><td>$149,000.00</td><td>$201,000.00</td></tr>\n",
       "\t<tr><td>Occidental College                      </td><td>California</td><td>$51,900.00</td><td>$105,000.00</td><td>N/A       </td><td>$54,800.00 </td><td>$157,000.00</td><td>N/A        </td></tr>\n",
       "\t<tr><td>Cal Poly San Luis Obispo                </td><td>California</td><td>$57,200.00</td><td>$101,000.00</td><td>$55,000.00</td><td>$74,700.00 </td><td>$133,000.00</td><td>$178,000.00</td></tr>\n",
       "</tbody>\n",
       "</table>\n"
      ],
      "text/latex": [
       "A tibble: 6 × 8\n",
       "\\begin{tabular}{llllllll}\n",
       " School Name & Region & Starting Median Salary & Mid-Career Median Salary & Mid-Career 10th Percentile Salary & Mid-Career 25th Percentile Salary & Mid-Career 75th Percentile Salary & Mid-Career 90th Percentile Salary\\\\\n",
       " <chr> & <chr> & <chr> & <chr> & <chr> & <chr> & <chr> & <chr>\\\\\n",
       "\\hline\n",
       "\t Stanford University                      & California & \\$70,400.00 & \\$129,000.00 & \\$68,400.00 & \\$93,100.00  & \\$184,000.00 & \\$257,000.00\\\\\n",
       "\t California Institute of Technology (CIT) & California & \\$75,500.00 & \\$123,000.00 & N/A        & \\$104,000.00 & \\$161,000.00 & N/A        \\\\\n",
       "\t Harvey Mudd College                      & California & \\$71,800.00 & \\$122,000.00 & N/A        & \\$96,000.00  & \\$180,000.00 & N/A        \\\\\n",
       "\t University of California, Berkeley       & California & \\$59,900.00 & \\$112,000.00 & \\$59,500.00 & \\$81,000.00  & \\$149,000.00 & \\$201,000.00\\\\\n",
       "\t Occidental College                       & California & \\$51,900.00 & \\$105,000.00 & N/A        & \\$54,800.00  & \\$157,000.00 & N/A        \\\\\n",
       "\t Cal Poly San Luis Obispo                 & California & \\$57,200.00 & \\$101,000.00 & \\$55,000.00 & \\$74,700.00  & \\$133,000.00 & \\$178,000.00\\\\\n",
       "\\end{tabular}\n"
      ],
      "text/markdown": [
       "\n",
       "A tibble: 6 × 8\n",
       "\n",
       "| School Name &lt;chr&gt; | Region &lt;chr&gt; | Starting Median Salary &lt;chr&gt; | Mid-Career Median Salary &lt;chr&gt; | Mid-Career 10th Percentile Salary &lt;chr&gt; | Mid-Career 25th Percentile Salary &lt;chr&gt; | Mid-Career 75th Percentile Salary &lt;chr&gt; | Mid-Career 90th Percentile Salary &lt;chr&gt; |\n",
       "|---|---|---|---|---|---|---|---|\n",
       "| Stanford University                      | California | $70,400.00 | $129,000.00 | $68,400.00 | $93,100.00  | $184,000.00 | $257,000.00 |\n",
       "| California Institute of Technology (CIT) | California | $75,500.00 | $123,000.00 | N/A        | $104,000.00 | $161,000.00 | N/A         |\n",
       "| Harvey Mudd College                      | California | $71,800.00 | $122,000.00 | N/A        | $96,000.00  | $180,000.00 | N/A         |\n",
       "| University of California, Berkeley       | California | $59,900.00 | $112,000.00 | $59,500.00 | $81,000.00  | $149,000.00 | $201,000.00 |\n",
       "| Occidental College                       | California | $51,900.00 | $105,000.00 | N/A        | $54,800.00  | $157,000.00 | N/A         |\n",
       "| Cal Poly San Luis Obispo                 | California | $57,200.00 | $101,000.00 | $55,000.00 | $74,700.00  | $133,000.00 | $178,000.00 |\n",
       "\n"
      ],
      "text/plain": [
       "  School Name                              Region     Starting Median Salary\n",
       "1 Stanford University                      California $70,400.00            \n",
       "2 California Institute of Technology (CIT) California $75,500.00            \n",
       "3 Harvey Mudd College                      California $71,800.00            \n",
       "4 University of California, Berkeley       California $59,900.00            \n",
       "5 Occidental College                       California $51,900.00            \n",
       "6 Cal Poly San Luis Obispo                 California $57,200.00            \n",
       "  Mid-Career Median Salary Mid-Career 10th Percentile Salary\n",
       "1 $129,000.00              $68,400.00                       \n",
       "2 $123,000.00              N/A                              \n",
       "3 $122,000.00              N/A                              \n",
       "4 $112,000.00              $59,500.00                       \n",
       "5 $105,000.00              N/A                              \n",
       "6 $101,000.00              $55,000.00                       \n",
       "  Mid-Career 25th Percentile Salary Mid-Career 75th Percentile Salary\n",
       "1 $93,100.00                        $184,000.00                      \n",
       "2 $104,000.00                       $161,000.00                      \n",
       "3 $96,000.00                        $180,000.00                      \n",
       "4 $81,000.00                        $149,000.00                      \n",
       "5 $54,800.00                        $157,000.00                      \n",
       "6 $74,700.00                        $133,000.00                      \n",
       "  Mid-Career 90th Percentile Salary\n",
       "1 $257,000.00                      \n",
       "2 N/A                              \n",
       "3 N/A                              \n",
       "4 $201,000.00                      \n",
       "5 N/A                              \n",
       "6 $178,000.00                      "
      ]
     },
     "metadata": {},
     "output_type": "display_data"
    }
   ],
   "source": [
    "byRegion <- read_csv(\"data/salaries/byRegion.csv\")\n",
    "byCollege <- read_csv(\"data/salaries/byCollege.csv\")\n",
    "byDegree <- read_csv(\"data/salaries/byDegree.csv\")\n",
    "head(byRegion)"
   ]
  },
  {
   "cell_type": "code",
   "execution_count": null,
   "metadata": {},
   "outputs": [],
   "source": []
  }
 ],
 "metadata": {
  "kernelspec": {
   "display_name": "R",
   "language": "R",
   "name": "ir"
  },
  "language_info": {
   "codemirror_mode": "r",
   "file_extension": ".r",
   "mimetype": "text/x-r-source",
   "name": "R",
   "pygments_lexer": "r",
   "version": "4.0.0"
  }
 },
 "nbformat": 4,
 "nbformat_minor": 4
}
