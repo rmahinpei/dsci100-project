{
 "cells": [
  {
   "cell_type": "markdown",
   "metadata": {},
   "source": [
    "# Project Proposal"
   ]
  },
  {
   "cell_type": "code",
   "execution_count": 1,
   "metadata": {},
   "outputs": [
    {
     "name": "stderr",
     "output_type": "stream",
     "text": [
      "── \u001b[1mAttaching packages\u001b[22m ─────────────────────────────────────── tidyverse 1.3.0 ──\n",
      "\n",
      "\u001b[32m✔\u001b[39m \u001b[34mggplot2\u001b[39m 3.3.2     \u001b[32m✔\u001b[39m \u001b[34mpurrr  \u001b[39m 0.3.4\n",
      "\u001b[32m✔\u001b[39m \u001b[34mtibble \u001b[39m 3.0.3     \u001b[32m✔\u001b[39m \u001b[34mdplyr  \u001b[39m 1.0.2\n",
      "\u001b[32m✔\u001b[39m \u001b[34mtidyr  \u001b[39m 1.1.2     \u001b[32m✔\u001b[39m \u001b[34mstringr\u001b[39m 1.4.0\n",
      "\u001b[32m✔\u001b[39m \u001b[34mreadr  \u001b[39m 1.3.1     \u001b[32m✔\u001b[39m \u001b[34mforcats\u001b[39m 0.5.0\n",
      "\n",
      "Warning message:\n",
      "“package ‘ggplot2’ was built under R version 4.0.1”\n",
      "Warning message:\n",
      "“package ‘tibble’ was built under R version 4.0.2”\n",
      "Warning message:\n",
      "“package ‘tidyr’ was built under R version 4.0.2”\n",
      "Warning message:\n",
      "“package ‘dplyr’ was built under R version 4.0.2”\n",
      "── \u001b[1mConflicts\u001b[22m ────────────────────────────────────────── tidyverse_conflicts() ──\n",
      "\u001b[31m✖\u001b[39m \u001b[34mdplyr\u001b[39m::\u001b[32mfilter()\u001b[39m masks \u001b[34mstats\u001b[39m::filter()\n",
      "\u001b[31m✖\u001b[39m \u001b[34mdplyr\u001b[39m::\u001b[32mlag()\u001b[39m    masks \u001b[34mstats\u001b[39m::lag()\n",
      "\n"
     ]
    }
   ],
   "source": [
    "library(tidyverse)"
   ]
  },
  {
   "cell_type": "code",
   "execution_count": 2,
   "metadata": {},
   "outputs": [
    {
     "name": "stderr",
     "output_type": "stream",
     "text": [
      "Parsed with column specification:\n",
      "cols(\n",
      "  Beverage_category = \u001b[31mcol_character()\u001b[39m,\n",
      "  Beverage = \u001b[31mcol_character()\u001b[39m,\n",
      "  Beverage_prep = \u001b[31mcol_character()\u001b[39m,\n",
      "  Calories = \u001b[32mcol_double()\u001b[39m,\n",
      "  `Total Fat (g)` = \u001b[31mcol_character()\u001b[39m,\n",
      "  `Trans Fat (g)` = \u001b[32mcol_double()\u001b[39m,\n",
      "  `Saturated Fat (g)` = \u001b[32mcol_double()\u001b[39m,\n",
      "  `Sodium (mg)` = \u001b[32mcol_double()\u001b[39m,\n",
      "  `Total Carbohydrates (g)` = \u001b[32mcol_double()\u001b[39m,\n",
      "  `Cholesterol (mg)` = \u001b[32mcol_double()\u001b[39m,\n",
      "  `Dietary Fibre (g)` = \u001b[32mcol_double()\u001b[39m,\n",
      "  `Sugars (g)` = \u001b[32mcol_double()\u001b[39m,\n",
      "  `Protein (g)` = \u001b[32mcol_double()\u001b[39m,\n",
      "  `Vitamin A (% DV)` = \u001b[31mcol_character()\u001b[39m,\n",
      "  `Vitamin C (% DV)` = \u001b[31mcol_character()\u001b[39m,\n",
      "  `Calcium (% DV)` = \u001b[31mcol_character()\u001b[39m,\n",
      "  `Iron (% DV)` = \u001b[31mcol_character()\u001b[39m,\n",
      "  `Caffeine (mg)` = \u001b[31mcol_character()\u001b[39m\n",
      ")\n",
      "\n",
      "Warning message:\n",
      "“Missing column names filled in: 'X1' [1]”\n",
      "Parsed with column specification:\n",
      "cols(\n",
      "  X1 = \u001b[31mcol_character()\u001b[39m,\n",
      "  Calories = \u001b[32mcol_double()\u001b[39m,\n",
      "  `Fat (g)` = \u001b[32mcol_double()\u001b[39m,\n",
      "  `Carb. (g)` = \u001b[32mcol_double()\u001b[39m,\n",
      "  `Fiber (g)` = \u001b[32mcol_double()\u001b[39m,\n",
      "  `Protein (g)` = \u001b[32mcol_double()\u001b[39m\n",
      ")\n",
      "\n"
     ]
    }
   ],
   "source": [
    "drink_data <- read_csv(\"data/starbucks/drinkMenu.csv\")\n",
    "food_data <- read_csv(\"data/starbucks/foodMenu.csv\")"
   ]
  },
  {
   "cell_type": "code",
   "execution_count": 3,
   "metadata": {},
   "outputs": [
    {
     "ename": "ERROR",
     "evalue": "Error: 'data/degrees-that-pay/byRegion.csv' does not exist in current working directory ('/home/jupyter/dsci100-project').\n",
     "output_type": "error",
     "traceback": [
      "Error: 'data/degrees-that-pay/byRegion.csv' does not exist in current working directory ('/home/jupyter/dsci100-project').\nTraceback:\n",
      "1. read_csv(\"data/degrees-that-pay/byRegion.csv\")",
      "2. read_delimited(file, tokenizer, col_names = col_names, col_types = col_types, \n .     locale = locale, skip = skip, skip_empty_rows = skip_empty_rows, \n .     comment = comment, n_max = n_max, guess_max = guess_max, \n .     progress = progress)",
      "3. standardise_path(file)",
      "4. check_path(path)",
      "5. stop(\"'\", path, \"' does not exist\", if (!is_absolute_path(path)) paste0(\" in current working directory ('\", \n .     getwd(), \"')\"), \".\", call. = FALSE)"
     ]
    }
   ],
   "source": [
    "byRegion <- read_csv(\"data/salaries/byRegion.csv\")\n",
    "byCollege <- read_csv(\"data/salaries/byCollege.csv\")\n",
    "byDegree <- read_csv(\"data/salaries/byDegree.csv\")"
   ]
  },
  {
   "cell_type": "code",
   "execution_count": null,
   "metadata": {},
   "outputs": [],
   "source": []
  }
 ],
 "metadata": {
  "kernelspec": {
   "display_name": "R",
   "language": "R",
   "name": "ir"
  },
  "language_info": {
   "codemirror_mode": "r",
   "file_extension": ".r",
   "mimetype": "text/x-r-source",
   "name": "R",
   "pygments_lexer": "r",
   "version": "4.0.0"
  }
 },
 "nbformat": 4,
 "nbformat_minor": 4
}
